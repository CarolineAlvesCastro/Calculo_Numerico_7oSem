{
 "cells": [
  {
   "cell_type": "markdown",
   "metadata": {},
   "source": [
    "# Verifica se um numero é perfeito"
   ]
  },
  {
   "cell_type": "code",
   "execution_count": null,
   "metadata": {},
   "outputs": [],
   "source": []
  },
  {
   "cell_type": "code",
   "execution_count": 5,
   "metadata": {},
   "outputs": [
    {
     "name": "stdout",
     "output_type": "stream",
     "text": [
      "Digite um numero:17\n",
      "O número 17 Não é perfeito\n"
     ]
    }
   ],
   "source": [
    "n = int(input(\"Digite um numero:\"))\n",
    "div=1\n",
    "for i in range(2,n):\n",
    "    if n%i == 0: # verifica se i é um divisor de n\n",
    "        div = div + i # soma acumulada dos divisores\n",
    "if div == n:\n",
    "    print(\"O número\",n,\"é perfeito\")\n",
    "else:\n",
    "    print(\"O número\",n,\"Não é perfeito\")"
   ]
  },
  {
   "cell_type": "code",
   "execution_count": null,
   "metadata": {},
   "outputs": [],
   "source": []
  }
 ],
 "metadata": {
  "kernelspec": {
   "display_name": "Python 3",
   "language": "python",
   "name": "python3"
  },
  "language_info": {
   "codemirror_mode": {
    "name": "ipython",
    "version": 3
   },
   "file_extension": ".py",
   "mimetype": "text/x-python",
   "name": "python",
   "nbconvert_exporter": "python",
   "pygments_lexer": "ipython3",
   "version": "3.6.4"
  }
 },
 "nbformat": 4,
 "nbformat_minor": 2
}
